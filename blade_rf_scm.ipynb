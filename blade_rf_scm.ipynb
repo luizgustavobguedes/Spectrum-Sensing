{
  "nbformat": 4,
  "nbformat_minor": 0,
  "metadata": {
    "colab": {
      "provenance": []
    },
    "kernelspec": {
      "name": "python3",
      "display_name": "Python 3"
    },
    "language_info": {
      "name": "python"
    }
  },
  "cells": [
    {
      "cell_type": "markdown",
      "source": [
        "**BLADE-RF SPECTRUM SENSING**"
      ],
      "metadata": {
        "id": "DWf60bn2J9L6"
      }
    },
    {
      "cell_type": "code",
      "execution_count": 11,
      "metadata": {
        "id": "R9iHmnjYEv0d"
      },
      "outputs": [],
      "source": [
        "import numpy as np"
      ]
    },
    {
      "cell_type": "markdown",
      "source": [
        "**Building Sample Covariance Matrix (SCM)**"
      ],
      "metadata": {
        "id": "V-GlCkXGGi2p"
      }
    },
    {
      "cell_type": "code",
      "source": [
        "rx_signal = np.array([1,2,3,4,5,6,7,8,9,10]) # Insert here according to the true received signal vector\n",
        "print(\"rx_signal = \", rx_signal)"
      ],
      "metadata": {
        "colab": {
          "base_uri": "https://localhost:8080/"
        },
        "id": "kW04igSOEzBz",
        "outputId": "07598f98-4b8f-44fb-ef54-ddae4654f8d6"
      },
      "execution_count": 12,
      "outputs": [
        {
          "output_type": "stream",
          "name": "stdout",
          "text": [
            "rx_signal =  [ 1  2  3  4  5  6  7  8  9 10]\n"
          ]
        }
      ]
    },
    {
      "cell_type": "code",
      "source": [
        "N = len(rx_signal) # Number of samples present in the received signal vector\n",
        "print(\"The length of rx_signal is: \", N)"
      ],
      "metadata": {
        "colab": {
          "base_uri": "https://localhost:8080/"
        },
        "id": "YtsZTrCRFJ9X",
        "outputId": "fe4f9932-2852-448a-8e11-1423170d3c91"
      },
      "execution_count": 13,
      "outputs": [
        {
          "output_type": "stream",
          "name": "stdout",
          "text": [
            "The length of rx_signal is:  10\n"
          ]
        }
      ]
    },
    {
      "cell_type": "code",
      "source": [
        "# The following steps are taken in order to build the received signal matrix from the received signal vector. Basically, it will divide the whole received signal vector in segments with each one being positioned in each line of the received signal matrix;\n",
        "num_segments = 5 # We must vary here, and identify the best one, verifing the influence of the number of segments in the performance (i.e., analyze the influence of this value in the Pd, for example);\n",
        "len_segment = N // num_segments # Number of samples present in each segment."
      ],
      "metadata": {
        "id": "njvcOHreFcz9"
      },
      "execution_count": 14,
      "outputs": []
    },
    {
      "cell_type": "code",
      "source": [
        "rx_signal_matrix = np.reshape(rx_signal, (num_segments, len_segment)) # Building the received signal matrix based on the received signal vector. This step is necessary because the SCM requires this.\n",
        "print(\"The receiver signal matrix is equal to \", rx_signal_matrix)"
      ],
      "metadata": {
        "colab": {
          "base_uri": "https://localhost:8080/"
        },
        "id": "KHTy1bxqFkC9",
        "outputId": "4f558873-0db8-4eda-ac52-2f76013bbd32"
      },
      "execution_count": 15,
      "outputs": [
        {
          "output_type": "stream",
          "name": "stdout",
          "text": [
            "The receiver signal matrix is equal to  [[ 1  2]\n",
            " [ 3  4]\n",
            " [ 5  6]\n",
            " [ 7  8]\n",
            " [ 9 10]]\n"
          ]
        }
      ]
    },
    {
      "cell_type": "code",
      "source": [
        "scm = (rx_signal_matrix @ rx_signal_matrix.T) / num_segments # Sample Covariance Matrix (SCM) computation.\n",
        "print(\"The resultant Sample Covariance Matrix is equal to \", scm)"
      ],
      "metadata": {
        "colab": {
          "base_uri": "https://localhost:8080/"
        },
        "id": "xCnHpmPCGiD_",
        "outputId": "0ba2b1f2-d8ae-4965-d840-0e257ca2e411"
      },
      "execution_count": 16,
      "outputs": [
        {
          "output_type": "stream",
          "name": "stdout",
          "text": [
            "The resultant Sample Covariance Matrix is equal to  [[ 1.   2.2  3.4  4.6  5.8]\n",
            " [ 2.2  5.   7.8 10.6 13.4]\n",
            " [ 3.4  7.8 12.2 16.6 21. ]\n",
            " [ 4.6 10.6 16.6 22.6 28.6]\n",
            " [ 5.8 13.4 21.  28.6 36.2]]\n"
          ]
        }
      ]
    },
    {
      "cell_type": "markdown",
      "source": [
        "**Building Pietra-Ricci Index Detector (PRIDe)**"
      ],
      "metadata": {
        "id": "o1WJu6MGGqvJ"
      }
    },
    {
      "cell_type": "code",
      "source": [
        "r = scm.flatten().reshape(-1,1) # This vector is build by stacking all columns of the SCM;\n",
        "T_pride = np.sum(np.abs(r)) / np.sum(np.abs(r - np.mean(r))) # PRIDe test statistic computation.\n",
        "print(\"A estatística de teste do PRIDe é: \", T_pride)"
      ],
      "metadata": {
        "colab": {
          "base_uri": "https://localhost:8080/"
        },
        "id": "aZCB_XexG5C_",
        "outputId": "a14d6653-7e1f-4a9d-a7c9-501c712da88b"
      },
      "execution_count": 17,
      "outputs": [
        {
          "output_type": "stream",
          "name": "stdout",
          "text": [
            "A estatística de teste do PRIDe é:  1.5885416666666667\n"
          ]
        }
      ]
    }
  ]
}