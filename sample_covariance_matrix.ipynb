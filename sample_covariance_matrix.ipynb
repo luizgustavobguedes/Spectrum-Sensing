{
  "nbformat": 4,
  "nbformat_minor": 0,
  "metadata": {
    "colab": {
      "provenance": []
    },
    "kernelspec": {
      "name": "python3",
      "display_name": "Python 3"
    },
    "language_info": {
      "name": "python"
    }
  },
  "cells": [
    {
      "cell_type": "code",
      "execution_count": 24,
      "metadata": {
        "id": "R9iHmnjYEv0d"
      },
      "outputs": [],
      "source": [
        "import numpy as np"
      ]
    },
    {
      "cell_type": "code",
      "source": [
        "rx_signal = np.array([1,2,3,4,5,6,7,8,9,10]) # insert here according to the true received signal\n",
        "print(\"rx_signal = \", rx_signal)"
      ],
      "metadata": {
        "colab": {
          "base_uri": "https://localhost:8080/"
        },
        "id": "kW04igSOEzBz",
        "outputId": "63e5890b-fce4-48ff-9d78-82b50835183d"
      },
      "execution_count": 25,
      "outputs": [
        {
          "output_type": "stream",
          "name": "stdout",
          "text": [
            "rx_signal =  [ 1  2  3  4  5  6  7  8  9 10]\n"
          ]
        }
      ]
    },
    {
      "cell_type": "code",
      "source": [
        "N = len(rx_signal) # Number of samples present in the received signal\n",
        "print(\"The length of rx_signal is: \", N)"
      ],
      "metadata": {
        "colab": {
          "base_uri": "https://localhost:8080/"
        },
        "id": "YtsZTrCRFJ9X",
        "outputId": "fcce53e7-526b-4fc8-9c83-f14c4f0d2e33"
      },
      "execution_count": 26,
      "outputs": [
        {
          "output_type": "stream",
          "name": "stdout",
          "text": [
            "The length of rx_signal is:  10\n"
          ]
        }
      ]
    },
    {
      "cell_type": "code",
      "source": [
        "num_segments = 5 # We must vary here, and identify the best one, verifing the influence of the number of segments in the performance (i.e., analyze the influence of this value in the Pd, for example)\n",
        "len_segment = N // num_segments # Number of samples present in each segment"
      ],
      "metadata": {
        "id": "njvcOHreFcz9"
      },
      "execution_count": 27,
      "outputs": []
    },
    {
      "cell_type": "code",
      "source": [
        "rx_signal_matrix = np.reshape(rx_signal, (num_segments, len_segment)) # Building the received signal matrix based on the received signal vector\n",
        "print(\"The receiver signal matrix is equal to \", rx_signal_matrix)"
      ],
      "metadata": {
        "colab": {
          "base_uri": "https://localhost:8080/"
        },
        "id": "KHTy1bxqFkC9",
        "outputId": "8417ca27-0aa2-40d9-bb32-fef5faf6b849"
      },
      "execution_count": 28,
      "outputs": [
        {
          "output_type": "stream",
          "name": "stdout",
          "text": [
            "The receiver signal matrix is equal to  [[ 1  2]\n",
            " [ 3  4]\n",
            " [ 5  6]\n",
            " [ 7  8]\n",
            " [ 9 10]]\n"
          ]
        }
      ]
    },
    {
      "cell_type": "code",
      "source": [
        "scm = (rx_signal_matrix @ rx_signal_matrix.T) / num_segments #\n",
        "print(\"The resultant Sample Covariance Matrix is equal to \", scm)"
      ],
      "metadata": {
        "colab": {
          "base_uri": "https://localhost:8080/"
        },
        "id": "xCnHpmPCGiD_",
        "outputId": "f2ff3047-c476-4f80-d298-091ed2d949be"
      },
      "execution_count": 29,
      "outputs": [
        {
          "output_type": "stream",
          "name": "stdout",
          "text": [
            "The resultant Sample Covariance Matrix is equal to  [[ 1.   2.2  3.4  4.6  5.8]\n",
            " [ 2.2  5.   7.8 10.6 13.4]\n",
            " [ 3.4  7.8 12.2 16.6 21. ]\n",
            " [ 4.6 10.6 16.6 22.6 28.6]\n",
            " [ 5.8 13.4 21.  28.6 36.2]]\n"
          ]
        }
      ]
    }
  ]
}